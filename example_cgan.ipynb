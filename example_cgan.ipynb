{
 "cells": [
  {
   "cell_type": "code",
   "execution_count": 1,
   "metadata": {},
   "outputs": [],
   "source": [
    "from numpy import expand_dims\n",
    "from numpy import zeros\n",
    "from numpy import ones\n",
    "from numpy.random import randn\n",
    "from numpy.random import randint\n",
    "import tensorflow as tf\n",
    "from tensorflow.keras.datasets.fashion_mnist import load_data\n",
    "from tensorflow.keras.optimizers import Adam\n",
    "from tensorflow.keras.models import Model\n",
    "from tensorflow.keras.layers import Input\n",
    "from tensorflow.keras.layers import Dense\n",
    "from tensorflow.keras.layers import Reshape\n",
    "from tensorflow.keras.layers import Flatten\n",
    "from tensorflow.keras.layers import Conv2D\n",
    "from tensorflow.keras.layers import Conv2DTranspose\n",
    "from tensorflow.keras.layers import LeakyReLU\n",
    "from tensorflow.keras.layers import Dropout\n",
    "from tensorflow.keras.layers import Embedding\n",
    "from tensorflow.keras.layers import Concatenate\n",
    "from tensorflow.keras.layers import BatchNormalization"
   ]
  },
  {
   "cell_type": "code",
   "execution_count": 2,
   "metadata": {},
   "outputs": [],
   "source": [
    "import os\n",
    "import skimage.io\n",
    "import skimage.transform\n",
    "from tqdm import tqdm\n",
    "import pandas as pd\n",
    "import json\n",
    "import numpy as np\n",
    "import matplotlib.pyplot as plt"
   ]
  },
  {
   "cell_type": "code",
   "execution_count": 3,
   "metadata": {},
   "outputs": [],
   "source": [
    "def define_discriminator(in_shape=(224,224,3), n_classes=6):\n",
    "\n",
    "    in_label = Input(shape=(1,))\n",
    "\n",
    "    li = Embedding(n_classes, 50)(in_label)\n",
    "\n",
    "    n_nodes = in_shape[0] * in_shape[1]\n",
    "    li = Dense(n_nodes)(li)\n",
    "\n",
    "    li = Reshape((in_shape[0], in_shape[1], 1))(li)\n",
    "\n",
    "    in_image = Input(shape=in_shape)\n",
    "\n",
    "    merge = Concatenate()([in_image, li])\n",
    "\n",
    "    fe = Conv2D(64, (5,5), strides=(2,2), padding='same')(merge)\n",
    "    fe = LeakyReLU()(fe)\n",
    "    fe = Dropout(0.3)(fe)\n",
    "    \n",
    "    fe = Conv2D(128, (5,5), strides=(2,2), padding='same')(fe)\n",
    "    fe = LeakyReLU()(fe)\n",
    "    fe = Dropout(0.3)(fe)\n",
    "    \n",
    "    fe = Flatten()(fe)\n",
    "\n",
    "    out_layer = Dense(1, activation='sigmoid')(fe)\n",
    "\n",
    "    model = Model([in_image, in_label], out_layer)\n",
    "\n",
    "    opt = Adam(lr=0.0002, beta_1=0.5)\n",
    "    model.compile(loss='binary_crossentropy', optimizer=opt, metrics=['accuracy'])\n",
    "    return model"
   ]
  },
  {
   "cell_type": "code",
   "execution_count": 4,
   "metadata": {},
   "outputs": [],
   "source": [
    "def define_generator(latent_dim, n_classes=6):\n",
    "\n",
    "    in_label = Input(shape=(1,))\n",
    "\n",
    "    li = Embedding(n_classes, 50)(in_label)\n",
    "\n",
    "    n_nodes = 7 * 7\n",
    "    li = Dense(n_nodes)(li)\n",
    "\n",
    "    li = Reshape((7, 7, 1))(li)\n",
    "\n",
    "    in_lat = Input(shape=(latent_dim,))\n",
    "    \n",
    "    gen = Dense(7*7*256)(in_lat)\n",
    "    gen = BatchNormalization()(gen)\n",
    "    gen = LeakyReLU()(gen)\n",
    "    gen = Reshape((7,7,256))(gen)\n",
    "    \n",
    "    merge = Concatenate()([gen,li])\n",
    "    \n",
    "    gen = Conv2DTranspose(128, (5,5), strides = (1,1), padding='same', use_bias=False)(merge)\n",
    "    gen = BatchNormalization()(gen)\n",
    "    gen = LeakyReLU()(gen)\n",
    "    \n",
    "    gen = Conv2DTranspose(64, (5,5), strides = (2,2), padding='same', use_bias=False)(gen)\n",
    "    gen = BatchNormalization()(gen)\n",
    "    gen = LeakyReLU()(gen)\n",
    "    \n",
    "    gen = Conv2DTranspose(32, (5,5), strides = (2,2), padding='same', use_bias=False)(gen)\n",
    "    gen = BatchNormalization()(gen)\n",
    "    gen = LeakyReLU()(gen)\n",
    "    \n",
    "    gen = Conv2DTranspose(16, (5,5), strides = (2,2), padding='same', use_bias=False)(gen)\n",
    "    gen = BatchNormalization()(gen)\n",
    "    gen = LeakyReLU()(gen)\n",
    "    \n",
    "    gen = Conv2DTranspose(8, (5,5), strides = (2,2), padding='same', use_bias=False)(gen)\n",
    "    \n",
    "    out_layer = Conv2DTranspose(3, (5,5), strides = (2,2), padding='same', use_bias=False, activation='tanh')(gen)\n",
    "   \n",
    "    model = Model([in_lat, in_label], out_layer)\n",
    "    return model"
   ]
  },
  {
   "cell_type": "code",
   "execution_count": 5,
   "metadata": {},
   "outputs": [],
   "source": [
    "def define_gan(g_model, d_model):\n",
    "\n",
    "    d_model.trainable = False\n",
    "\n",
    "    gen_noise, gen_label = g_model.input\n",
    "\n",
    "    gen_output = g_model.output\n",
    "\n",
    "    gan_output = d_model([gen_output, gen_label])\n",
    "\n",
    "    model = Model([gen_noise, gen_label], gan_output)\n",
    "\n",
    "    opt = Adam(lr=0.0002, beta_1=0.5)\n",
    "    model.compile(loss='binary_crossentropy', optimizer=opt)\n",
    "    return model"
   ]
  },
  {
   "cell_type": "code",
   "execution_count": 6,
   "metadata": {},
   "outputs": [],
   "source": [
    "def load_real_samples():\n",
    "    \n",
    "    data_dirs = [d for d in os.listdir('dreamhouse_data/')]\n",
    "    \n",
    "    trainX = []\n",
    "    costs = []\n",
    "    \n",
    "    print('loading training data')\n",
    "    for dd in tqdm(data_dirs):\n",
    "        houses_found = [d for d in os.listdir('dreamhouse_data/'+dd) if os.path.isdir('dreamhouse_data/{}/{}'.format(dd,d))]\n",
    "        with open('dreamhouse_data/{}/metadata.json'.format(dd)) as test_md:\n",
    "            md = json.load(test_md)\n",
    "        for house in houses_found:\n",
    "            house_content = os.listdir('dreamhouse_data/{}/{}'.format(dd,house))\n",
    "            if 'gsv_0.jpg' in house_content:\n",
    "                try:\n",
    "                    costs.append(md[house]['PRICE'])\n",
    "                    path = 'dreamhouse_data/{}/{}/gsv_0.jpg'.format(dd,house)\n",
    "                    x = skimage.io.imread(path)\n",
    "                    x = skimage.transform.resize(x, (224,224))\n",
    "                    trainX.append(x)\n",
    "                except KeyError:\n",
    "                    pass\n",
    "    X = expand_dims(trainX,axis=-1)\n",
    "    X = X.astype('float32')\n",
    "    X = (X-127.5)/127.5\n",
    "    \n",
    "    price_df = pd.DataFrame({'costs':costs})\n",
    "    bins = np.array([0,600000,1000000,1400000,1800000,2200000,float(np.Inf)])\n",
    "    price_df['bin'] = pd.cut(price_df.costs,bins)\n",
    "    cuts = list(set(price_df['bin'].to_list()))\n",
    "    cuts = sorted(cuts)\n",
    "    bin_ids = {cuts[i]:i for i in range(len(cuts))}\n",
    "    price_df['cat'] = price_df['bin'].map(bin_ids)\n",
    "    trainy = np.array(price_df['cat'].to_list())\n",
    "    \n",
    "    \n",
    "    return [X, trainy]"
   ]
  },
  {
   "cell_type": "code",
   "execution_count": 7,
   "metadata": {},
   "outputs": [],
   "source": [
    "def generate_real_samples(dataset, n_samples):\n",
    "\n",
    "    images, labels = dataset\n",
    "\n",
    "    ix = randint(0, images.shape[0], n_samples)\n",
    "    \n",
    "    X, labels = images[ix], labels[ix]\n",
    "\n",
    "    y = ones((n_samples, 1))\n",
    "    return [X, labels], y"
   ]
  },
  {
   "cell_type": "code",
   "execution_count": 8,
   "metadata": {},
   "outputs": [],
   "source": [
    "def generate_latent_points(latent_dim, n_samples, n_classes=6):\n",
    "\n",
    "    x_input = randn(latent_dim * n_samples)\n",
    "\n",
    "    z_input = x_input.reshape(n_samples, latent_dim)\n",
    "\n",
    "    labels = randint(0, n_classes, n_samples)\n",
    "    return [z_input, labels]"
   ]
  },
  {
   "cell_type": "code",
   "execution_count": 9,
   "metadata": {},
   "outputs": [],
   "source": [
    "def generate_fake_samples(generator, latent_dim, n_samples):\n",
    "\n",
    "    z_input, labels_input = generate_latent_points(latent_dim, n_samples)\n",
    "\n",
    "    images = generator.predict([z_input, labels_input])\n",
    "\n",
    "    y = zeros((n_samples, 1))\n",
    "    return [images, labels_input], y"
   ]
  },
  {
   "cell_type": "code",
   "execution_count": 10,
   "metadata": {},
   "outputs": [],
   "source": [
    "def train(g_model, d_model, gan_model, dataset, latent_dim, n_epochs=100, n_batch=128):\n",
    "    \n",
    "    bat_per_epo = int(dataset[0].shape[0] / n_batch)\n",
    "    half_batch = int(n_batch / 2)\n",
    "    \n",
    "    for i in range(n_epochs):\n",
    "        \n",
    "        pbar = tqdm(range(bat_per_epo))\n",
    "\n",
    "        for j in pbar:\n",
    "\n",
    "            [X_real, labels_real], y_real = generate_real_samples(dataset, half_batch)\n",
    "\n",
    "            d_loss1, _ = d_model.train_on_batch([X_real, labels_real], y_real)\n",
    "\n",
    "            [X_fake, labels], y_fake = generate_fake_samples(g_model, latent_dim, half_batch)\n",
    "\n",
    "            d_loss2, _ = d_model.train_on_batch([X_fake, labels], y_fake)\n",
    "\n",
    "            [z_input, labels_input] = generate_latent_points(latent_dim, n_batch)\n",
    "\n",
    "            y_gan = ones((n_batch, 1))\n",
    "\n",
    "            g_loss = gan_model.train_on_batch([z_input, labels_input], y_gan)\n",
    "            \n",
    "            pbar.set_postfix({'epoch':i,'g_loss':g_loss})\n",
    "            \n",
    "        generate_and_save_image(g_model,i)\n",
    "\n",
    "    g_model.save(f'cgan_generator_{n_epochs}.h5')"
   ]
  },
  {
   "cell_type": "code",
   "execution_count": 14,
   "metadata": {},
   "outputs": [],
   "source": [
    "!mkdir cgan_frames_300"
   ]
  },
  {
   "cell_type": "code",
   "execution_count": 18,
   "metadata": {},
   "outputs": [],
   "source": [
    "def generate_and_save_image(model,epoch):\n",
    "    test_pts, labs = generate_latent_points(100,6)\n",
    "    labs = np.asarray(range(6))\n",
    "    X = model.predict([test_pts,labs])\n",
    "    X = (X+1)/2.\n",
    "    \n",
    "    fig  = plt.figure()\n",
    "    \n",
    "    for i in range(6):\n",
    "        plt.subplot(1,6,i+1)\n",
    "        plt.imshow(X[i,:,:,:])\n",
    "        plt.axis('off')\n",
    "        \n",
    "    plt.savefig('cgan_frames_300/im_at_epoch{:04d}.png'.format(epoch))\n",
    "    plt.show()"
   ]
  },
  {
   "cell_type": "code",
   "execution_count": 12,
   "metadata": {},
   "outputs": [
    {
     "name": "stderr",
     "output_type": "stream",
     "text": [
      "\r",
      "  0%|          | 0/203 [00:00<?, ?it/s]"
     ]
    },
    {
     "name": "stdout",
     "output_type": "stream",
     "text": [
      "loading training data\n"
     ]
    },
    {
     "name": "stderr",
     "output_type": "stream",
     "text": [
      "100%|██████████| 203/203 [01:04<00:00,  3.14it/s]\n"
     ]
    }
   ],
   "source": [
    "dataset = load_real_samples()"
   ]
  },
  {
   "cell_type": "code",
   "execution_count": null,
   "metadata": {},
   "outputs": [
    {
     "name": "stderr",
     "output_type": "stream",
     "text": [
      "100%|██████████| 15/15 [01:29<00:00,  5.96s/it, epoch=0, g_loss=3.48]\n"
     ]
    },
    {
     "data": {
      "image/png": "[encoded data removed]",
      "text/plain": [
       "<Figure size 432x288 with 6 Axes>"
      ]
     },
     "metadata": {
      "needs_background": "light"
     },
     "output_type": "display_data"
    },
    {
     "name": "stderr",
     "output_type": "stream",
     "text": [
      "  7%|▋         | 1/15 [00:05<01:21,  5.79s/it, epoch=1, g_loss=3.27]"
     ]
    }
   ],
   "source": [
    "latent_dim = 100\n",
    "\n",
    "d_model = define_discriminator()\n",
    "\n",
    "g_model = define_generator(latent_dim)\n",
    "\n",
    "gan_model = define_gan(g_model, d_model)\n",
    "\n",
    "train(g_model, d_model, gan_model, dataset, latent_dim,n_epochs=100)"
   ]
  },
  {
   "cell_type": "code",
   "execution_count": null,
   "metadata": {},
   "outputs": [],
   "source": []
  }
 ],
 "metadata": {
  "kernelspec": {
   "display_name": "Python 3",
   "language": "python",
   "name": "python3"
  },
  "language_info": {
   "codemirror_mode": {
    "name": "ipython",
    "version": 3
   },
   "file_extension": ".py",
   "mimetype": "text/x-python",
   "name": "python",
   "nbconvert_exporter": "python",
   "pygments_lexer": "ipython3",
   "version": "3.6.9"
  }
 },
 "nbformat": 4,
 "nbformat_minor": 4
}
